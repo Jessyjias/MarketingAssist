{
  "nbformat": 4,
  "nbformat_minor": 0,
  "metadata": {
    "colab": {
      "provenance": [],
      "mount_file_id": "1LU0tkxRnPG0-gydVxlkKpLat7pB5qvNP",
      "authorship_tag": "ABX9TyMS9MXHV+DiX+XiB/hayQ8K",
      "include_colab_link": true
    },
    "kernelspec": {
      "name": "python3",
      "display_name": "Python 3"
    },
    "language_info": {
      "name": "python"
    }
  },
  "cells": [
    {
      "cell_type": "markdown",
      "metadata": {
        "id": "view-in-github",
        "colab_type": "text"
      },
      "source": [
        "<a href=\"https://colab.research.google.com/github/Jessyjias/MarketingAssist/blob/main/vertex_ai.ipynb\" target=\"_parent\"><img src=\"https://colab.research.google.com/assets/colab-badge.svg\" alt=\"Open In Colab\"/></a>"
      ]
    },
    {
      "cell_type": "code",
      "execution_count": 3,
      "metadata": {
        "colab": {
          "base_uri": "https://localhost:8080/"
        },
        "id": "ERcxeJuXS5zv",
        "outputId": "0aa29824-34ca-4dd4-c0a1-00b0f2ada24b"
      },
      "outputs": [
        {
          "output_type": "stream",
          "name": "stdout",
          "text": [
            "Requirement already satisfied: google-cloud-aiplatform in /usr/local/lib/python3.10/dist-packages (1.52.0)\n",
            "Requirement already satisfied: google-api-core[grpc]!=2.0.*,!=2.1.*,!=2.2.*,!=2.3.*,!=2.4.*,!=2.5.*,!=2.6.*,!=2.7.*,<3.0.0dev,>=1.34.1 in /usr/local/lib/python3.10/dist-packages (from google-cloud-aiplatform) (2.11.1)\n",
            "Requirement already satisfied: google-auth<3.0.0dev,>=2.14.1 in /usr/local/lib/python3.10/dist-packages (from google-cloud-aiplatform) (2.27.0)\n",
            "Requirement already satisfied: proto-plus<2.0.0dev,>=1.22.0 in /usr/local/lib/python3.10/dist-packages (from google-cloud-aiplatform) (1.23.0)\n",
            "Requirement already satisfied: protobuf!=3.20.0,!=3.20.1,!=4.21.0,!=4.21.1,!=4.21.2,!=4.21.3,!=4.21.4,!=4.21.5,<5.0.0dev,>=3.19.5 in /usr/local/lib/python3.10/dist-packages (from google-cloud-aiplatform) (3.20.3)\n",
            "Requirement already satisfied: packaging>=14.3 in /usr/local/lib/python3.10/dist-packages (from google-cloud-aiplatform) (24.0)\n",
            "Requirement already satisfied: google-cloud-storage<3.0.0dev,>=1.32.0 in /usr/local/lib/python3.10/dist-packages (from google-cloud-aiplatform) (2.8.0)\n",
            "Requirement already satisfied: google-cloud-bigquery!=3.20.0,<4.0.0dev,>=1.15.0 in /usr/local/lib/python3.10/dist-packages (from google-cloud-aiplatform) (3.21.0)\n",
            "Requirement already satisfied: google-cloud-resource-manager<3.0.0dev,>=1.3.3 in /usr/local/lib/python3.10/dist-packages (from google-cloud-aiplatform) (1.12.3)\n",
            "Requirement already satisfied: shapely<3.0.0dev in /usr/local/lib/python3.10/dist-packages (from google-cloud-aiplatform) (2.0.4)\n",
            "Requirement already satisfied: pydantic<3 in /usr/local/lib/python3.10/dist-packages (from google-cloud-aiplatform) (2.7.1)\n",
            "Requirement already satisfied: docstring-parser<1 in /usr/local/lib/python3.10/dist-packages (from google-cloud-aiplatform) (0.16)\n",
            "Requirement already satisfied: googleapis-common-protos<2.0.dev0,>=1.56.2 in /usr/local/lib/python3.10/dist-packages (from google-api-core[grpc]!=2.0.*,!=2.1.*,!=2.2.*,!=2.3.*,!=2.4.*,!=2.5.*,!=2.6.*,!=2.7.*,<3.0.0dev,>=1.34.1->google-cloud-aiplatform) (1.63.0)\n",
            "Requirement already satisfied: requests<3.0.0.dev0,>=2.18.0 in /usr/local/lib/python3.10/dist-packages (from google-api-core[grpc]!=2.0.*,!=2.1.*,!=2.2.*,!=2.3.*,!=2.4.*,!=2.5.*,!=2.6.*,!=2.7.*,<3.0.0dev,>=1.34.1->google-cloud-aiplatform) (2.31.0)\n",
            "Requirement already satisfied: grpcio<2.0dev,>=1.33.2 in /usr/local/lib/python3.10/dist-packages (from google-api-core[grpc]!=2.0.*,!=2.1.*,!=2.2.*,!=2.3.*,!=2.4.*,!=2.5.*,!=2.6.*,!=2.7.*,<3.0.0dev,>=1.34.1->google-cloud-aiplatform) (1.64.0)\n",
            "Requirement already satisfied: grpcio-status<2.0.dev0,>=1.33.2 in /usr/local/lib/python3.10/dist-packages (from google-api-core[grpc]!=2.0.*,!=2.1.*,!=2.2.*,!=2.3.*,!=2.4.*,!=2.5.*,!=2.6.*,!=2.7.*,<3.0.0dev,>=1.34.1->google-cloud-aiplatform) (1.48.2)\n",
            "Requirement already satisfied: cachetools<6.0,>=2.0.0 in /usr/local/lib/python3.10/dist-packages (from google-auth<3.0.0dev,>=2.14.1->google-cloud-aiplatform) (5.3.3)\n",
            "Requirement already satisfied: pyasn1-modules>=0.2.1 in /usr/local/lib/python3.10/dist-packages (from google-auth<3.0.0dev,>=2.14.1->google-cloud-aiplatform) (0.4.0)\n",
            "Requirement already satisfied: rsa<5,>=3.1.4 in /usr/local/lib/python3.10/dist-packages (from google-auth<3.0.0dev,>=2.14.1->google-cloud-aiplatform) (4.9)\n",
            "Requirement already satisfied: google-cloud-core<3.0.0dev,>=1.6.0 in /usr/local/lib/python3.10/dist-packages (from google-cloud-bigquery!=3.20.0,<4.0.0dev,>=1.15.0->google-cloud-aiplatform) (2.3.3)\n",
            "Requirement already satisfied: google-resumable-media<3.0dev,>=0.6.0 in /usr/local/lib/python3.10/dist-packages (from google-cloud-bigquery!=3.20.0,<4.0.0dev,>=1.15.0->google-cloud-aiplatform) (2.7.0)\n",
            "Requirement already satisfied: python-dateutil<3.0dev,>=2.7.2 in /usr/local/lib/python3.10/dist-packages (from google-cloud-bigquery!=3.20.0,<4.0.0dev,>=1.15.0->google-cloud-aiplatform) (2.8.2)\n",
            "Requirement already satisfied: grpc-google-iam-v1<1.0.0dev,>=0.12.4 in /usr/local/lib/python3.10/dist-packages (from google-cloud-resource-manager<3.0.0dev,>=1.3.3->google-cloud-aiplatform) (0.13.0)\n",
            "Requirement already satisfied: annotated-types>=0.4.0 in /usr/local/lib/python3.10/dist-packages (from pydantic<3->google-cloud-aiplatform) (0.7.0)\n",
            "Requirement already satisfied: pydantic-core==2.18.2 in /usr/local/lib/python3.10/dist-packages (from pydantic<3->google-cloud-aiplatform) (2.18.2)\n",
            "Requirement already satisfied: typing-extensions>=4.6.1 in /usr/local/lib/python3.10/dist-packages (from pydantic<3->google-cloud-aiplatform) (4.11.0)\n",
            "Requirement already satisfied: numpy<3,>=1.14 in /usr/local/lib/python3.10/dist-packages (from shapely<3.0.0dev->google-cloud-aiplatform) (1.25.2)\n",
            "Requirement already satisfied: google-crc32c<2.0dev,>=1.0 in /usr/local/lib/python3.10/dist-packages (from google-resumable-media<3.0dev,>=0.6.0->google-cloud-bigquery!=3.20.0,<4.0.0dev,>=1.15.0->google-cloud-aiplatform) (1.5.0)\n",
            "Requirement already satisfied: pyasn1<0.7.0,>=0.4.6 in /usr/local/lib/python3.10/dist-packages (from pyasn1-modules>=0.2.1->google-auth<3.0.0dev,>=2.14.1->google-cloud-aiplatform) (0.6.0)\n",
            "Requirement already satisfied: six>=1.5 in /usr/local/lib/python3.10/dist-packages (from python-dateutil<3.0dev,>=2.7.2->google-cloud-bigquery!=3.20.0,<4.0.0dev,>=1.15.0->google-cloud-aiplatform) (1.16.0)\n",
            "Requirement already satisfied: charset-normalizer<4,>=2 in /usr/local/lib/python3.10/dist-packages (from requests<3.0.0.dev0,>=2.18.0->google-api-core[grpc]!=2.0.*,!=2.1.*,!=2.2.*,!=2.3.*,!=2.4.*,!=2.5.*,!=2.6.*,!=2.7.*,<3.0.0dev,>=1.34.1->google-cloud-aiplatform) (3.3.2)\n",
            "Requirement already satisfied: idna<4,>=2.5 in /usr/local/lib/python3.10/dist-packages (from requests<3.0.0.dev0,>=2.18.0->google-api-core[grpc]!=2.0.*,!=2.1.*,!=2.2.*,!=2.3.*,!=2.4.*,!=2.5.*,!=2.6.*,!=2.7.*,<3.0.0dev,>=1.34.1->google-cloud-aiplatform) (3.7)\n",
            "Requirement already satisfied: urllib3<3,>=1.21.1 in /usr/local/lib/python3.10/dist-packages (from requests<3.0.0.dev0,>=2.18.0->google-api-core[grpc]!=2.0.*,!=2.1.*,!=2.2.*,!=2.3.*,!=2.4.*,!=2.5.*,!=2.6.*,!=2.7.*,<3.0.0dev,>=1.34.1->google-cloud-aiplatform) (2.0.7)\n",
            "Requirement already satisfied: certifi>=2017.4.17 in /usr/local/lib/python3.10/dist-packages (from requests<3.0.0.dev0,>=2.18.0->google-api-core[grpc]!=2.0.*,!=2.1.*,!=2.2.*,!=2.3.*,!=2.4.*,!=2.5.*,!=2.6.*,!=2.7.*,<3.0.0dev,>=1.34.1->google-cloud-aiplatform) (2024.2.2)\n",
            "Go to the following link in your browser, and complete the sign-in prompts:\n",
            "\n",
            "    https://accounts.google.com/o/oauth2/auth?response_type=code&client_id=764086051850-6qr4p6gpi6hn506pt8ejuq83di341hur.apps.googleusercontent.com&redirect_uri=https%3A%2F%2Fsdk.cloud.google.com%2Fapplicationdefaultauthcode.html&scope=openid+https%3A%2F%2Fwww.googleapis.com%2Fauth%2Fuserinfo.email+https%3A%2F%2Fwww.googleapis.com%2Fauth%2Fcloud-platform+https%3A%2F%2Fwww.googleapis.com%2Fauth%2Fsqlservice.login&state=Kbf5RtgLbqpPu5f4eAgy9VXE3jdvA5&prompt=consent&token_usage=remote&access_type=offline&code_challenge=eOg2mlxZ3sdiY9rvl1Hh9tQH_NrWtMV7seLWFVskGQs&code_challenge_method=S256\n",
            "\n",
            "Once finished, enter the verification code provided in your browser: \n",
            "\n",
            "Command killed by keyboard interrupt\n",
            "\n",
            "^C\n"
          ]
        }
      ],
      "source": [
        "! pip install --upgrade google-cloud-aiplatform\n",
        "# ! gcloud auth application-default login"
      ]
    },
    {
      "cell_type": "code",
      "source": [
        "# ! gcloud auth application-default login --no-launch-browser 4/0AdLIrYeFNs5GDSVJI3BAOWP0VXaOBPuenDpp9jj3koAtWg07zJCmg0xS6SDYRY5LFrGsRQ"
      ],
      "metadata": {
        "id": "iR3DugnAT4g5"
      },
      "execution_count": 8,
      "outputs": []
    },
    {
      "cell_type": "code",
      "source": [
        "# --client-id-file=clientid.json"
      ],
      "metadata": {
        "id": "65nTzoVKURZL"
      },
      "execution_count": 9,
      "outputs": []
    },
    {
      "cell_type": "code",
      "source": [
        "from google.colab import drive\n",
        "drive.mount('/content/drive')"
      ],
      "metadata": {
        "colab": {
          "base_uri": "https://localhost:8080/"
        },
        "id": "JG81rJoQUWiK",
        "outputId": "1b62140c-7068-42c9-8db9-adc9a81e8eac"
      },
      "execution_count": 10,
      "outputs": [
        {
          "output_type": "stream",
          "name": "stdout",
          "text": [
            "Drive already mounted at /content/drive; to attempt to forcibly remount, call drive.mount(\"/content/drive\", force_remount=True).\n"
          ]
        }
      ]
    },
    {
      "cell_type": "code",
      "source": [
        "from google.colab import auth\n",
        "PROJECT_ID = \"marketing-assist\"\n",
        "auth.authenticate_user(project_id=PROJECT_ID)"
      ],
      "metadata": {
        "id": "C2QsQUYoUypU"
      },
      "execution_count": 12,
      "outputs": []
    },
    {
      "cell_type": "code",
      "source": [
        "import base64\n",
        "import vertexai\n",
        "from vertexai.generative_models import GenerativeModel, Part, FinishReason\n",
        "import vertexai.preview.generative_models as generative_models\n",
        "\n",
        "def generate(text):\n",
        "  vertexai.init(project=\"marketing-assist\", location=\"us-central1\")\n",
        "  model = GenerativeModel(\n",
        "    \"gemini-1.5-flash-001\",\n",
        "  )\n",
        "  responses = model.generate_content(\n",
        "      [text],\n",
        "      generation_config=generation_config,\n",
        "      safety_settings=safety_settings,\n",
        "      stream=True,\n",
        "  )\n",
        "\n",
        "  for response in responses:\n",
        "    print(response.text, end=\"\")\n",
        "\n",
        "text1 = \"\"\"You are a marketing email assistant. Your role is to generate email campaign text and HTML code for emails.\"\"\"\n",
        "\n",
        "generation_config = {\n",
        "    \"max_output_tokens\": 8192,\n",
        "    \"temperature\": 1,\n",
        "    \"top_p\": 0.95,\n",
        "}\n",
        "\n",
        "safety_settings = {\n",
        "    generative_models.HarmCategory.HARM_CATEGORY_HATE_SPEECH: generative_models.HarmBlockThreshold.BLOCK_MEDIUM_AND_ABOVE,\n",
        "    generative_models.HarmCategory.HARM_CATEGORY_DANGEROUS_CONTENT: generative_models.HarmBlockThreshold.BLOCK_MEDIUM_AND_ABOVE,\n",
        "    generative_models.HarmCategory.HARM_CATEGORY_SEXUALLY_EXPLICIT: generative_models.HarmBlockThreshold.BLOCK_MEDIUM_AND_ABOVE,\n",
        "    generative_models.HarmCategory.HARM_CATEGORY_HARASSMENT: generative_models.HarmBlockThreshold.BLOCK_MEDIUM_AND_ABOVE,\n",
        "}\n",
        "\n",
        "generate(text1)"
      ],
      "metadata": {
        "colab": {
          "base_uri": "https://localhost:8080/"
        },
        "id": "pcQlIWr0TVua",
        "outputId": "ffe9e7d3-c2e2-4238-ff52-54cb13363d3a"
      },
      "execution_count": 16,
      "outputs": [
        {
          "output_type": "stream",
          "name": "stdout",
          "text": [
            "I'm ready to help! Tell me about your email campaign:\n",
            "\n",
            "**Please provide me with the following information:**\n",
            "\n",
            "* **Campaign Goal:** What are you hoping to achieve with this email campaign? (e.g., increase sales, drive website traffic, promote a new product, etc.)\n",
            "* **Target Audience:** Who are you sending this email to? (e.g., existing customers, potential customers, subscribers, etc.)\n",
            "* **Product/Service:** What are you promoting? (e.g., a new product, a sale, a blog post, etc.)\n",
            "* **Brand Voice:** What is the tone and style of your brand? (e.g., formal, friendly, humorous, etc.)\n",
            "* **Call to Action:** What do you want your recipients to do after reading your email? (e.g., visit your website, make a purchase, sign up for a newsletter, etc.)\n",
            "* **Any other relevant details:** For example, specific dates, deadlines, images you want to include, etc.\n",
            "\n",
            "**Once I have this information, I can generate:**\n",
            "\n",
            "* **Email Subject Line:** A catchy and relevant subject line to entice recipients to open your email.\n",
            "* **Email Body Text:** Engaging and persuasive text that effectively communicates your message and motivates recipients to take action.\n",
            "* **HTML Code:** Clean and responsive HTML code that ensures your email renders correctly across different devices and email clients.\n",
            "\n",
            "**Example:**\n",
            "\n",
            "Let's say you want to promote a new product launch. I would need to know:\n",
            "\n",
            "* **Campaign Goal:** Increase sales of new product.\n",
            "* **Target Audience:** Existing customers.\n",
            "* **Product/Service:** New smartwatch with advanced fitness tracking features.\n",
            "* **Brand Voice:** Friendly and enthusiastic.\n",
            "* **Call to Action:** Visit website to learn more and purchase the smartwatch. \n",
            "\n",
            "**Based on this information, I could generate something like:**\n",
            "\n",
            "**Subject Line:** Introducing Our Latest Smartwatch: The Ultimate Fitness Companion!\n",
            "\n",
            "**Email Body Text:** \n",
            "\n",
            "Hey [Customer Name],\n",
            "\n",
            "Get ready to take your fitness journey to the next level! We're thrilled to announce the launch of our new [Smartwatch Name], packed with cutting-edge features to help you achieve your fitness goals.\n",
            "\n",
            "With advanced heart rate monitoring, GPS tracking, and sleep analysis, this smartwatch is your ultimate companion for a healthier, more active lifestyle. \n",
            "\n",
            "[Insert Image of Smartwatch]\n",
            "\n",
            "Ready to experience the future of fitness? Visit our website today to learn more and pre-order yours: [Website Link]\n",
            "\n",
            "Stay tuned for more exciting updates!\n",
            "\n",
            "Best,\n",
            "\n",
            "The [Your Company Name] Team \n",
            "\n",
            "**HTML Code:** \n",
            "\n",
            "```html\n",
            "<!DOCTYPE html>\n",
            "<html>\n",
            "<head>\n",
            "  <title>New Smartwatch Launch</title>\n",
            "</head>\n",
            "<body>\n",
            "  <h1>Introducing Our Latest Smartwatch: The Ultimate Fitness Companion!</h1>\n",
            "  <p>Hey [Customer Name],</p>\n",
            "  <p>Get ready to take your fitness journey to the next level! We're thrilled to announce the launch of our new [Smartwatch Name], packed with cutting-edge features to help you achieve your fitness goals.</p>\n",
            "  <p>With advanced heart rate monitoring, GPS tracking, and sleep analysis, this smartwatch is your ultimate companion for a healthier, more active lifestyle.</p>\n",
            "  <img src=\"[Image URL]\" alt=\"[Smartwatch Name]\">\n",
            "  <p>Ready to experience the future of fitness? Visit our website today to learn more and pre-order yours: <a href=\"[Website Link]\">[Website Link]</a></p>\n",
            "  <p>Stay tuned for more exciting updates!</p>\n",
            "  <p>Best,</p>\n",
            "  <p>The [Your Company Name] Team</p>\n",
            "</body>\n",
            "</html>\n",
            "```\n",
            "\n",
            "**I can adapt this example to your specific needs. Just tell me more about your campaign!** \n"
          ]
        }
      ]
    },
    {
      "cell_type": "code",
      "source": [
        "import base64\n",
        "import vertexai\n",
        "from vertexai.generative_models import GenerativeModel, Part, FinishReason\n",
        "import vertexai.preview.generative_models as generative_models\n",
        "\n",
        "text2 = \"\"\"Purpose of the email campaign is to promote sales. \"\"\"\n",
        "\n",
        "generation_config = {\n",
        "    \"max_output_tokens\": 8192,\n",
        "    \"temperature\": 1,\n",
        "    \"top_p\": 0.95,\n",
        "}\n",
        "\n",
        "safety_settings = {\n",
        "    generative_models.HarmCategory.HARM_CATEGORY_HATE_SPEECH: generative_models.HarmBlockThreshold.BLOCK_MEDIUM_AND_ABOVE,\n",
        "    generative_models.HarmCategory.HARM_CATEGORY_DANGEROUS_CONTENT: generative_models.HarmBlockThreshold.BLOCK_MEDIUM_AND_ABOVE,\n",
        "    generative_models.HarmCategory.HARM_CATEGORY_SEXUALLY_EXPLICIT: generative_models.HarmBlockThreshold.BLOCK_MEDIUM_AND_ABOVE,\n",
        "    generative_models.HarmCategory.HARM_CATEGORY_HARASSMENT: generative_models.HarmBlockThreshold.BLOCK_MEDIUM_AND_ABOVE,\n",
        "}\n",
        "\n",
        "generate(text2)"
      ],
      "metadata": {
        "colab": {
          "base_uri": "https://localhost:8080/"
        },
        "id": "ZJvYbJhZZz_T",
        "outputId": "33083c66-32cb-427c-c404-0ebf76036608"
      },
      "execution_count": 17,
      "outputs": [
        {
          "output_type": "stream",
          "name": "stdout",
          "text": [
            "Please provide me with more information so I can help you craft the perfect email campaign!  Tell me:\n",
            "\n",
            "* **What are you selling?** (Products, services, etc.) \n",
            "* **Who is your target audience?** (Demographics, interests, etc.)\n",
            "* **What is your sales goal?** (Increase website traffic, generate leads, drive conversions, etc.)\n",
            "* **What is your budget?** (For email marketing tools, design, etc.)\n",
            "* **What is your timeline?** (When do you want to launch the campaign?)\n",
            "* **Do you have any specific offers or promotions?** (Discounts, bundles, free shipping, etc.)\n",
            "* **What is your brand voice?** (Casual, formal, humorous, etc.)\n",
            "\n",
            "The more information you provide, the better I can assist you in creating a successful email campaign. \n"
          ]
        }
      ]
    },
    {
      "cell_type": "code",
      "source": [
        "generate(\"I am selling Golfs, we need to promote sales of the clearance items\")"
      ],
      "metadata": {
        "colab": {
          "base_uri": "https://localhost:8080/"
        },
        "id": "Dt6XZ0-BaS7J",
        "outputId": "7c87615a-2bec-422d-c47c-9c1fcf198039"
      },
      "execution_count": 19,
      "outputs": [
        {
          "output_type": "stream",
          "name": "stdout",
          "text": [
            "Okay, I can help you with that! To effectively promote your golf clearance items, I need a little more information about your specific situation. Please tell me:\n",
            "\n",
            "* **What type of golf items are on clearance?** (e.g., clubs, apparel, bags, balls, accessories)\n",
            "* **What are the discounts you're offering?** (e.g., percentage off, specific price reductions)\n",
            "* **What is your target audience?** (e.g., experienced golfers, beginners, casual players)\n",
            "* **What are your available marketing channels?** (e.g., website, social media, email, print ads)\n",
            "* **What is your budget for promoting these items?**\n",
            "\n",
            "Once I have a better understanding of these details, I can offer you specific, actionable suggestions for promoting your clearance items. \n",
            "\n",
            "For example, here are some general ideas for promoting golf clearance:\n",
            "\n",
            "**Marketing Strategies:**\n",
            "\n",
            "* **Create a dedicated clearance section on your website.**\n",
            "* **Run email marketing campaigns highlighting the deals.**\n",
            "* **Post engaging social media content showcasing the clearance items.**\n",
            "* **Offer special deals for your loyal customers or members.**\n",
            "* **Run a \"clearance sale\" event with special promotions and discounts.**\n",
            "* **Partner with local golf courses or clubs to promote your clearance items.**\n",
            "\n",
            "**Content Ideas:**\n",
            "\n",
            "* **\"Clearance Corner\" blog posts featuring product reviews and buying guides.**\n",
            "* **Videos showcasing the clearance items and their benefits.**\n",
            "* **Social media contests and giveaways to drive engagement and awareness.**\n",
            "* **Email newsletters highlighting the best clearance deals.**\n",
            "\n",
            "Remember, the key to successful promotion is to create compelling content that resonates with your target audience and motivates them to take action. \n"
          ]
        }
      ]
    }
  ]
}